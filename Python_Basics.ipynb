{
  "nbformat": 4,
  "nbformat_minor": 0,
  "metadata": {
    "colab": {
      "provenance": [],
      "authorship_tag": "ABX9TyNpufk0zuS/VL67OcQATbd7",
      "include_colab_link": true
    },
    "kernelspec": {
      "name": "python3",
      "display_name": "Python 3"
    },
    "language_info": {
      "name": "python"
    }
  },
  "cells": [
    {
      "cell_type": "markdown",
      "metadata": {
        "id": "view-in-github",
        "colab_type": "text"
      },
      "source": [
        "<a href=\"https://colab.research.google.com/github/Sneha-zalte/AI-resume-analyzer/blob/main/Python_Basics.ipynb\" target=\"_parent\"><img src=\"https://colab.research.google.com/assets/colab-badge.svg\" alt=\"Open In Colab\"/></a>"
      ]
    },
    {
      "cell_type": "code",
      "execution_count": null,
      "metadata": {
        "id": "wZ8JajeRyKVI",
        "colab": {
          "base_uri": "https://localhost:8080/"
        },
        "outputId": "7a36eeea-14bb-4829-fc85-b2251c2ac685"
      },
      "outputs": [
        {
          "output_type": "stream",
          "name": "stdout",
          "text": [
            "String\n",
            "<class 'str'>\n",
            "12\n",
            "<class 'int'>\n",
            "12.35\n",
            "<class 'float'>\n",
            "True\n",
            "<class 'bool'>\n",
            "(1+2j)\n",
            "<class 'complex'>\n",
            "24.35\n",
            "<class 'float'>\n",
            "(1+2j)\n",
            "<class 'float'>\n"
          ]
        }
      ],
      "source": [
        "#Variable and Datatypes\n",
        "#int, string, float, boolean, complex\n",
        "\n",
        "A = \"String\"\n",
        "print(A)\n",
        "print(type(A))\n",
        "\n",
        "B= 12\n",
        "print(B)\n",
        "print(type(B))\n",
        "\n",
        "C= 12.35\n",
        "print(C)\n",
        "print(type(C))\n",
        "\n",
        "D= True\n",
        "print(D)\n",
        "print(type(D))\n",
        "\n",
        "E= 1+2j\n",
        "print(E)\n",
        "print(type(E))\n",
        "\n"
      ]
    },
    {
      "cell_type": "code",
      "source": [
        "# Datatypes Equations\n",
        "F= B + C\n",
        "print(F)\n",
        "print(type(F))\n",
        "print(\" \")\n",
        "\n",
        "G= C + E\n",
        "print(G)\n",
        "print(type(G))\n",
        "print(\" \")\n",
        "\n",
        "H = A + str(B)\n",
        "print(H)\n",
        "print(type(H))\n",
        "print(\" \")\n",
        "\n",
        "I = A + str(D)\n",
        "print(I)\n",
        "print(type(I))\n",
        "print(\" \")\n",
        "\n",
        "J = C + D\n",
        "print(J)\n",
        "print(type(J))\n",
        "print(\" \")\n",
        "\n",
        "K = E + D\n",
        "print(K)\n",
        "print(type(K))\n",
        "print(\" \")"
      ],
      "metadata": {
        "colab": {
          "base_uri": "https://localhost:8080/"
        },
        "id": "18lIR16o8K-6",
        "outputId": "b6dc64ee-2de7-4b15-9729-d64dc4ad3b81"
      },
      "execution_count": null,
      "outputs": [
        {
          "output_type": "stream",
          "name": "stdout",
          "text": [
            "24.35\n",
            "<class 'float'>\n",
            " \n",
            "(13.35+2j)\n",
            "<class 'complex'>\n",
            " \n",
            "String12\n",
            "<class 'str'>\n",
            " \n",
            "StringTrue\n",
            "<class 'str'>\n",
            " \n",
            "13.35\n",
            "<class 'float'>\n",
            " \n",
            "(2+2j)\n",
            "<class 'complex'>\n",
            " \n"
          ]
        }
      ]
    },
    {
      "cell_type": "code",
      "source": [
        "#String Function\n",
        "name = \"Sneha Zalte\"\n",
        "age = 21\n",
        "print(\"Hello\", name)\n",
        "print(f\"{name} is {age} years old\")\n"
      ],
      "metadata": {
        "colab": {
          "base_uri": "https://localhost:8080/"
        },
        "id": "TW8lTvCt-jwS",
        "outputId": "f054630f-3b6c-4f0a-8c78-34b11ed44a03"
      },
      "execution_count": null,
      "outputs": [
        {
          "output_type": "stream",
          "name": "stdout",
          "text": [
            "Hello Sneha Zalte\n",
            "Sneha Zalte is 21 years old\n",
            "Sneha Zalte\n"
          ]
        }
      ]
    },
    {
      "cell_type": "code",
      "source": [
        "# User input\n",
        "name = input(\"Enter your name: \")\n",
        "age = input(\"Enter your age: \")\n",
        "print(f\"{name} is {age} years old\")\n",
        "\n",
        "# Only Int user input\n",
        "age = int(input(\"Enter your age: \"))\n",
        "print(f\"{name} is {age} years old\")"
      ],
      "metadata": {
        "colab": {
          "base_uri": "https://localhost:8080/"
        },
        "id": "Da7j1qEBAW56",
        "outputId": "cb432b22-92fa-46cc-d57f-d10ceb9d01ac"
      },
      "execution_count": null,
      "outputs": [
        {
          "output_type": "stream",
          "name": "stdout",
          "text": [
            "Enter your name: snehsa\n",
            "Enter your age: 21\n",
            "snehsa is 21 years old\n",
            "Enter your age: 23\n",
            "snehsa is 23 years old\n"
          ]
        }
      ]
    },
    {
      "cell_type": "markdown",
      "source": [],
      "metadata": {
        "id": "zhFNL9QLA-Cn"
      }
    },
    {
      "cell_type": "code",
      "source": [
        "number = int(input(\"Enter a number:\"))\n",
        "if number % 2 == 0:\n",
        "  print(\"Even number\")\n",
        "else:\n",
        "  print(\"Odd number\")"
      ],
      "metadata": {
        "colab": {
          "base_uri": "https://localhost:8080/"
        },
        "id": "C5USOSqIA_Qo",
        "outputId": "9ad494e5-db8d-4308-f358-3db4876cf24b"
      },
      "execution_count": null,
      "outputs": [
        {
          "output_type": "stream",
          "name": "stdout",
          "text": [
            "Enter a number:34\n",
            "Even number\n"
          ]
        }
      ]
    },
    {
      "cell_type": "code",
      "source": [
        "#Fibonacci Series\n",
        "n = int(input(\"Enter the number of terms for Fibonacci series: \"))\n",
        "a,b = 1,2\n",
        "count = 0\n",
        "\n",
        "if n<=0:\n",
        "  print(\"Please enter a positive number\")\n",
        "elif n==1:\n",
        "  print(\"Fibonacci series upto to 1\")\n",
        "  print(a)\n",
        "else:\n",
        "  print(\"Fibonacci series\")\n",
        "  while count< n :\n",
        "    print (a, end= \" \")\n",
        "    a,b = b, a+b\n",
        "    count += 1\n"
      ],
      "metadata": {
        "colab": {
          "base_uri": "https://localhost:8080/"
        },
        "id": "-L6WuKYABa3d",
        "outputId": "9c76036f-7168-4de3-b9ae-0d96dd51c5e8"
      },
      "execution_count": null,
      "outputs": [
        {
          "output_type": "stream",
          "name": "stdout",
          "text": [
            "Enter the number of terms for Fibonacci series: 5\n",
            "Fibonacci series\n",
            "1 2 3 5 8 "
          ]
        }
      ]
    },
    {
      "cell_type": "code",
      "source": [
        "#Palindrome 1 to 500\n",
        "count = 0\n",
        "for num in range(1,501):\n",
        "  if str(num) == str(num)[::-1]:\n",
        "    print(num,end=\" \")\n",
        "    count +=1\n",
        "print(\"\\n \\n Total count:\"+ \" \" + str(count))"
      ],
      "metadata": {
        "colab": {
          "base_uri": "https://localhost:8080/"
        },
        "id": "xa-Yc6MlDSRg",
        "outputId": "6f0af227-eab1-402b-9ff4-3c37eed61dd2"
      },
      "execution_count": null,
      "outputs": [
        {
          "output_type": "stream",
          "name": "stdout",
          "text": [
            "1 2 3 4 5 6 7 8 9 11 22 33 44 55 66 77 88 99 101 111 121 131 141 151 161 171 181 191 202 212 222 232 242 252 262 272 282 292 303 313 323 333 343 353 363 373 383 393 404 414 424 434 444 454 464 474 484 494 \n",
            " \n",
            " Total count: 58\n"
          ]
        }
      ]
    },
    {
      "cell_type": "code",
      "source": [
        "#Palindrome 1 to 500\n",
        "def is_palindrome(num):\n",
        "  return str(num) == str(num)[:: -1]\n",
        "\n",
        "count = 0\n",
        "print(\"Palindrome numbers from 1 to 500:\")\n",
        "for num in range(1,501):\n",
        "  if is_palindrome(num):\n",
        "    print(num, end=\" \")\n",
        "    count += 1\n",
        "print(\"\\n \\n Total count:\"+str(count))"
      ],
      "metadata": {
        "colab": {
          "base_uri": "https://localhost:8080/"
        },
        "id": "is8DhKoPHF94",
        "outputId": "3d30d3e4-5f77-4b3a-d355-ae3bb810cc08"
      },
      "execution_count": null,
      "outputs": [
        {
          "output_type": "stream",
          "name": "stdout",
          "text": [
            "Palindrome numbers from 1 to 500:\n",
            "1 2 3 4 5 6 7 8 9 11 22 33 44 55 66 77 88 99 101 111 121 131 141 151 161 171 181 191 202 212 222 232 242 252 262 272 282 292 303 313 323 333 343 353 363 373 383 393 404 414 424 434 444 454 464 474 484 494 \n",
            " \n",
            " Total count:58\n"
          ]
        }
      ]
    },
    {
      "cell_type": "code",
      "source": [
        "#List\n",
        "fruits = [\"apple\", \"banana\", \"cherry\"]\n",
        "print(fruits[1])\n",
        "\n",
        "#modify\n",
        "fruits[1] = \"blueberry\"\n",
        "\n",
        "#adding items\n",
        "fruits.append(\"mango\")\n",
        "fruits.insert(1,\"orange\")\n",
        "\n",
        "#removing items\n",
        "fruits.remove(\"cherry\")\n",
        "last_item = fruits.pop()\n",
        "\n",
        "#Loop through list\n",
        "for fruit in fruits:\n",
        "  print(fruit)\n",
        "\n",
        "#List comprehension\n",
        "lengths = [len(fruit) for fruit in fruits]\n",
        "print(\"Lengths:\", lengths)\n"
      ],
      "metadata": {
        "colab": {
          "base_uri": "https://localhost:8080/"
        },
        "id": "7AozXWFBJqTE",
        "outputId": "0ad456c5-4bb9-4360-ace4-0e8c8cb7ffc1"
      },
      "execution_count": null,
      "outputs": [
        {
          "output_type": "stream",
          "name": "stdout",
          "text": [
            "banana\n",
            "apple\n",
            "orange\n",
            "blueberry\n",
            "Lengths: [5, 6, 9]\n"
          ]
        }
      ]
    },
    {
      "cell_type": "code",
      "source": [
        "#Set\n",
        "colors = {\"red\",\"blue\",\"green\",\"red\"}\n",
        "\n",
        "#add item\n",
        "colors.add(\"yellow\")\n",
        "\n",
        "#remove item\n",
        "colors.discard(\"blue\")\n",
        "\n",
        "#check membership\n",
        "print(\"green\" in colors)\n",
        "\n",
        "#Loop through set\n",
        "for color in colors:\n",
        "  print(color)\n",
        "\n",
        "#Set operations\n",
        "a={1,2,3}\n",
        "b={3,4,5}\n",
        "print(\"Union:\", a|b)\n",
        "print(\"Intersection\", a & b)\n",
        "print(\"Difference:\", a-b)"
      ],
      "metadata": {
        "colab": {
          "base_uri": "https://localhost:8080/"
        },
        "id": "IDFvYFC0N5OW",
        "outputId": "38efebd2-e774-4727-b6dd-8d215e9023c7"
      },
      "execution_count": null,
      "outputs": [
        {
          "output_type": "stream",
          "name": "stdout",
          "text": [
            "True\n",
            "red\n",
            "yellow\n",
            "green\n",
            "Union: {1, 2, 3, 4, 5}\n",
            "Intersection {3}\n",
            "Difference: {1, 2}\n"
          ]
        }
      ]
    },
    {
      "cell_type": "code",
      "source": [
        "#Tuple\n",
        "person = (\"Sneha\",21,\"Engineer\",132,\"Zalte\")\n",
        "\n",
        "#value accessing\n",
        "print(person[0])\n",
        "print(person[0], person[4])\n",
        "\n",
        "#tuple slicing\n",
        "print(person[1:3])\n",
        "print(person[0:3])\n",
        "print(person[1:])\n",
        "print(person[:4])\n",
        "\n",
        "#tuple unpacking\n",
        "name,age,profession,id,surname = person\n",
        "print(f\"{name} is a {age}-year-old. my profession is {profession}. My id is {id}. My surname is {surname}.\")\n",
        "\n",
        "#nested tuple\n",
        "nested = (1,(2,3),4,(5,6))\n",
        "print(nested[1][0])\n",
        "print(nested[1])\n",
        "print(nested[0],nested[1],nested[2])\n",
        "print(len(nested))\n",
        "print(nested[1:3])"
      ],
      "metadata": {
        "colab": {
          "base_uri": "https://localhost:8080/"
        },
        "id": "JNA0uqa1PcPq",
        "outputId": "9b076e48-63c4-499f-b67a-069095ba39cb"
      },
      "execution_count": null,
      "outputs": [
        {
          "output_type": "stream",
          "name": "stdout",
          "text": [
            "Sneha\n",
            "Sneha Zalte\n",
            "(21, 'Engineer')\n",
            "('Sneha', 21, 'Engineer')\n",
            "(21, 'Engineer', 132, 'Zalte')\n",
            "('Sneha', 21, 'Engineer', 132)\n",
            "Sneha is a 21-year-old. my profession is Engineer. My id is 132. My surname is Zalte.\n",
            "2\n",
            "(2, 3)\n",
            "1 (2, 3) 4\n",
            "4\n",
            "((2, 3), 4)\n"
          ]
        }
      ]
    },
    {
      "cell_type": "code",
      "source": [
        "#Dictionary\n",
        "# Dictionary: key-value pairs\n",
        "student = {\n",
        "    \"name\": \"John\",\n",
        "    \"age\": 21,\n",
        "    \"marks\": [85, 90, 88]\n",
        "}\n",
        "\n",
        "# Accessing values\n",
        "print(student[\"name\"])\n",
        "\n",
        "# Adding new key\n",
        "student[\"grade\"] = \"A\"\n",
        "\n",
        "# Modifying value\n",
        "student[\"age\"] = 22\n",
        "\n",
        "# Loop through keys\n",
        "for key in student:\n",
        "    print(key, \":\", student[key])\n",
        "\n",
        "# Loop through items\n",
        "for key, value in student.items():\n",
        "    print(f\"{key} => {value}\")\n",
        "\n",
        "# Dictionary comprehension\n",
        "squares = {x: x*x for x in range(1, 6)}\n",
        "print(squares)\n"
      ],
      "metadata": {
        "id": "97ylCWNmRsRU",
        "colab": {
          "base_uri": "https://localhost:8080/"
        },
        "outputId": "972591d5-5ed8-448c-ca20-612aa480430e"
      },
      "execution_count": null,
      "outputs": [
        {
          "output_type": "stream",
          "name": "stdout",
          "text": [
            "John\n",
            "name : John\n",
            "age : 22\n",
            "marks : [85, 90, 88]\n",
            "grade : A\n",
            "name => John\n",
            "age => 22\n",
            "marks => [85, 90, 88]\n",
            "grade => A\n",
            "{1: 1, 2: 4, 3: 9, 4: 16, 5: 25}\n"
          ]
        }
      ]
    },
    {
      "cell_type": "code",
      "source": [
        "\"\"\"\n",
        "1. Create a list of 5 fruits and print each fruit on a new line.\n",
        "\n",
        "2. Add a new fruit to the list and remove the second fruit.\n",
        "\n",
        "3. Print only fruits with more than 5 letters using a loop.\n",
        "\n",
        "4. Find the length of the list.\n",
        "\n",
        "5. Reverse a list without using reverse() function.\"\"\"\n",
        "\n",
        "fruits = [\"apple\", \"banana\", \"cherry\", \"date\", \"berry\"]\n",
        "\n",
        "# Print each fruit on a new line\n",
        "for fruit in fruits:\n",
        "    print(fruit)\n",
        "print(\" \")\n",
        "\n",
        "#Add a new fruit to the list and remove the second fruit\n",
        "fruits.append(\"kiwi\")\n",
        "fruits.pop(1)\n",
        "print(fruits)\n",
        "print(\" \")\n",
        "\n",
        "#Print only fruits with more than 5 letters using a loop\n",
        "for fruit in fruits:\n",
        "    if len(fruit) > 5:\n",
        "        print(fruit)\n",
        "        print(\" \")\n",
        "\n",
        "#Find the length of the list\n",
        "print(len(fruits))\n",
        "print(\" \")\n",
        "\n",
        "#Reverse a list without using reverse() function\n",
        "reversed_fruits = fruits[::-1]\n",
        "print(reversed_fruits)\n",
        "print(\" \")"
      ],
      "metadata": {
        "colab": {
          "base_uri": "https://localhost:8080/"
        },
        "id": "MNaVFasVi465",
        "outputId": "367590a8-7c5f-4f2e-d7a9-b21867f77680"
      },
      "execution_count": null,
      "outputs": [
        {
          "output_type": "stream",
          "name": "stdout",
          "text": [
            "apple\n",
            "banana\n",
            "cherry\n",
            "date\n",
            "berry\n",
            " \n",
            "['apple', 'cherry', 'date', 'berry', 'kiwi']\n",
            " \n",
            "cherry\n",
            " \n",
            "5\n",
            " \n",
            "['kiwi', 'berry', 'date', 'cherry', 'apple']\n",
            " \n"
          ]
        }
      ]
    },
    {
      "cell_type": "code",
      "source": [
        "\"\"\"\n",
        "1.Create a set of unique colors from a list of colors with duplicates.\n",
        "\n",
        "2.Add a new color and remove an existing one.\n",
        "\n",
        "3.Find union and intersection of two sets.\n",
        "\n",
        "4.Check if two sets are disjoint.\n",
        "\n",
        "5.Convert list to set and back to list.\"\"\"\n",
        "\n",
        "#Create a set of unique colors from a list of colors with duplicates\n",
        "colors = [\"red\", \"blue\", \"green\", \"red\", \"yellow\"]\n",
        "unique_colors = set(colors)\n",
        "print(unique_colors)\n",
        "print(\" \")\n",
        "\n",
        "#Add a new color and remove an existing one\n",
        "unique_colors.add(\"purple\")\n",
        "unique_colors.remove(\"blue\")\n",
        "print(unique_colors)\n",
        "print(\" \")\n",
        "\n",
        "#Find union and intersection of two sets\n",
        "set1 = {1, 2, 3, 4}\n",
        "set2 = {3, 4, 5, 6}\n",
        "union = set1 | set2\n",
        "intersection = set1 & set2\n",
        "print(\"Union:\", union)\n",
        "print(\"Intersection:\", intersection)\n",
        "print(\" \")\n",
        "\n",
        "#Check if two sets are disjoint\n",
        "set3 = {7, 8, 9}\n",
        "is_disjoint = set1.isdisjoint(set3)\n",
        "print(\"Are the sets disjoint?\", is_disjoint)\n",
        "print(\" \")\n",
        "\n",
        "#Convert list to set and back to list\n",
        "my_list = [1, 2, 3, 4, 5]\n",
        "my_set = set(my_list)\n",
        "print(my_set)\n",
        "print(type(my_set))\n",
        "print(\" \")\n",
        "new_list = list(my_set)\n",
        "print(new_list)\n",
        "print(type(new_list))\n"
      ],
      "metadata": {
        "colab": {
          "base_uri": "https://localhost:8080/"
        },
        "id": "vFQOXorso2N0",
        "outputId": "d3c3fa7f-1597-42a9-f283-71b9a9b151c5"
      },
      "execution_count": null,
      "outputs": [
        {
          "output_type": "stream",
          "name": "stdout",
          "text": [
            "{'yellow', 'blue', 'red', 'green'}\n",
            " \n",
            "{'red', 'yellow', 'green', 'purple'}\n",
            " \n",
            "Union: {1, 2, 3, 4, 5, 6}\n",
            "Intersection: {3, 4}\n",
            " \n",
            "Are the sets disjoint? True\n",
            " \n",
            "{1, 2, 3, 4, 5}\n",
            "<class 'set'>\n",
            " \n",
            "[1, 2, 3, 4, 5]\n",
            "<class 'list'>\n"
          ]
        }
      ]
    },
    {
      "cell_type": "code",
      "source": [
        "\"\"\"\n",
        "1.Create a tuple of your name, age, and city.\n",
        "2.Access only the city from the tuple.\n",
        "3.Create a nested tuple and access the inner values.\n",
        "4.Write a function that returns name and age using tuple unpacking.\n",
        "5.Count how many times a value appears in a tuple.\"\"\"\n",
        "\n",
        "#Create a tuple of your name, age, and city\n",
        "Details = (\"Sneha\", 21, \"Mumbai\")\n",
        "print(Details)\n",
        "\n",
        "#Access only the city from the tuple\n",
        "city = Details[2]\n",
        "print(city)\n",
        "\n",
        "#Create a nested tuple and access the inner values\n",
        "nested_tuple = ((1, 2), (3, 4), (5, 6))\n",
        "inner_value = nested_tuple[1][0]\n",
        "print(inner_value)\n",
        "\n",
        "# Write a function that returns name and age using tuple unpacking.\n",
        "def unpack_tuple():\n",
        "    name, age = Details\n",
        "    return name, age\n",
        "\n",
        "#Count how many times a value appears in a tuple\n",
        "my_tuple = (1, 2, 3, 2, 4, 2, 5)\n",
        "count = my_tuple.count(2)\n",
        "print(count)"
      ],
      "metadata": {
        "colab": {
          "base_uri": "https://localhost:8080/"
        },
        "id": "zEZ6UTupp4rA",
        "outputId": "56ba46b9-294d-400b-8d4d-db4aa24c9ca3"
      },
      "execution_count": null,
      "outputs": [
        {
          "output_type": "stream",
          "name": "stdout",
          "text": [
            "('Sneha', 21, 'Mumbai')\n",
            "Mumbai\n",
            "3\n",
            "3\n"
          ]
        }
      ]
    },
    {
      "cell_type": "code",
      "source": [
        "#OPERATORS\n",
        "a = 10\n",
        "b = 3\n",
        "\n",
        "# Arithmetic\n",
        "print(\"Add:\", a + b)\n",
        "print(\"Sub:\", a - b)\n",
        "print(\"Mul:\", a * b)\n",
        "print(\"Div:\", a / b)\n",
        "print(\"Mod:\", a % b)\n",
        "print(\"Power:\", a ** b)\n",
        "print(\"Floor Div:\", a // b)\n",
        "\n",
        "# Comparison\n",
        "print(\"a == b:\", a == b)\n",
        "print(\"a != b:\", a != b)\n",
        "print(\"a > b:\", a > b)\n",
        "print(\"a < b:\", a < b)\n",
        "\n",
        "# Logical\n",
        "x, y = True, False\n",
        "print(\"AND:\", x and y)\n",
        "print(\"OR:\", x or y)\n",
        "print(\"NOT:\", not x)\n",
        "\n",
        "# Bitwise\n",
        "print(\"Bitwise AND:\", a & b)\n",
        "print(\"Bitwise OR:\", a | b)\n"
      ],
      "metadata": {
        "colab": {
          "base_uri": "https://localhost:8080/"
        },
        "id": "tm-3IteryAvk",
        "outputId": "f870da17-5a4e-45fc-c8a0-bd082cff2e05"
      },
      "execution_count": null,
      "outputs": [
        {
          "output_type": "stream",
          "name": "stdout",
          "text": [
            "Add: 13\n",
            "Sub: 7\n",
            "Mul: 30\n",
            "Div: 3.3333333333333335\n",
            "Mod: 1\n",
            "Power: 1000\n",
            "Floor Div: 3\n",
            "a == b: False\n",
            "a != b: True\n",
            "a > b: True\n",
            "a < b: False\n",
            "AND: False\n",
            "OR: True\n",
            "NOT: False\n",
            "Bitwise AND: 2\n",
            "Bitwise OR: 11\n"
          ]
        }
      ]
    },
    {
      "cell_type": "code",
      "source": [
        "#Control Flow\n",
        "num = int(input(\"Enter a number: \"))\n",
        "\n",
        "if num >0:\n",
        "  print(\"Positive\")\n",
        "elif num < 0:\n",
        "  print(\"Negative\")\n",
        "else:\n",
        "  print(\"Zero\")\n",
        "\n",
        "#Nested if\n",
        "num1 = int(input(\"Enter a number: \"))\n",
        "\n",
        "if num1 > 0:\n",
        "  if num1 % 2 == 0:\n",
        "    print(\"Even positive\")\n",
        "  else:\n",
        "    print(\"Odd positive\")"
      ],
      "metadata": {
        "colab": {
          "base_uri": "https://localhost:8080/"
        },
        "id": "V3PadFJMyPj8",
        "outputId": "d2f53fd7-af49-4246-ec69-b1fe624dd82e"
      },
      "execution_count": null,
      "outputs": [
        {
          "output_type": "stream",
          "name": "stdout",
          "text": [
            "Enter a number: 2\n",
            "Positive\n",
            "Enter a number: 4\n",
            "Even positive\n"
          ]
        }
      ]
    },
    {
      "cell_type": "code",
      "source": [
        "#Loops\n",
        "for i in range(1,6):\n",
        "  print(\"For:\", i)\n",
        "else:\n",
        "  print(\"For loop ended\")\n",
        "\n",
        "#While Loop\n",
        "count = 1\n",
        "while count <=5:\n",
        "  print(\"While:\", count)\n",
        "  count += 1\n",
        "else:\n",
        "  print(\"While loop ended\")\n",
        "\n",
        "#Break & continue\n",
        "for i in range(10):\n",
        "  if i == 5:\n",
        "    break\n",
        "  if i % 2 == 0:\n",
        "    continue\n",
        "  print(\"Odd number before break:\", i)"
      ],
      "metadata": {
        "colab": {
          "base_uri": "https://localhost:8080/"
        },
        "id": "UaRC38HZy8X0",
        "outputId": "4770e6c7-5ec7-407b-ae4c-3da8c2ce1357"
      },
      "execution_count": null,
      "outputs": [
        {
          "output_type": "stream",
          "name": "stdout",
          "text": [
            "For: 1\n",
            "For: 2\n",
            "For: 3\n",
            "For: 4\n",
            "For: 5\n",
            "For loop ended\n",
            "While: 1\n",
            "While: 2\n",
            "While: 3\n",
            "While: 4\n",
            "While: 5\n",
            "While loop ended\n",
            "Odd number before break: 1\n",
            "Odd number before break: 3\n"
          ]
        }
      ]
    },
    {
      "cell_type": "code",
      "source": [
        "# Functions(with args, kwargs, return)\n",
        "def greet(name):\n",
        "  print(f\"Hello, {name}\")\n",
        "\n",
        "def add(a,b):\n",
        "  return a + b\n",
        "\n",
        "def profile(name, city= \"Mumbai\"):\n",
        "  print(f\"{name} lives in {city}\")\n",
        "\n",
        "def sum_all(*nums):\n",
        "  return sum(nums)\n",
        "\n",
        "greet(\"Sneha\")\n",
        "print(\"Add:\", add(5,3))\n",
        "profile(\"Sneha\")\n",
        "print(\"Sum All:\", sum_all(1,2,3,4,5))"
      ],
      "metadata": {
        "colab": {
          "base_uri": "https://localhost:8080/"
        },
        "id": "MRBHFvZo0OOW",
        "outputId": "1fe0ba91-1ad6-4afc-8b50-238c47b31efa"
      },
      "execution_count": null,
      "outputs": [
        {
          "output_type": "stream",
          "name": "stdout",
          "text": [
            "Hello, Sneha\n",
            "Add: 8\n",
            "Sneha lives in Mumbai\n",
            "Sum All: 15\n"
          ]
        }
      ]
    },
    {
      "cell_type": "code",
      "source": [
        "#File Handling\n",
        "\"\"\"Programs often need to store data permanently (e.g., logs, configs, user data).\n",
        "File handling lets you read/write data from/to files.\"\"\"\n",
        "#Write\n",
        "with open(\"demo.txt\",\"w\") as f:\n",
        "  f.write(\"Hello Pyhton\\nWelcome!\")\n",
        "\n",
        "#Append\n",
        "with open(\"demo.txt\",\"a\") as f:\n",
        "  f.write(\"\\nAppended line.\")\n",
        "\n",
        "#Read\n",
        "try:\n",
        "  with open(\"demo.txt\",\"r\") as f:\n",
        "    print(f.read())\n",
        "except FileNotFoundError:\n",
        "  print(\"File not found\")\n",
        "\n",
        "\"\"\"\n",
        "Commom Modes:\n",
        "\"r\" → Read (default, error if file doesn’t exist)\n",
        "\"w\" → Write (creates new file or overwrites)\n",
        "\"a\" → Append (adds to the end of file)\n",
        "\"x\" → Create (error if file exists)\n",
        "\"b\" → Binary mode (images, videos)\n",
        "\"t\" → Text mode (default)\"\"\""
      ],
      "metadata": {
        "colab": {
          "base_uri": "https://localhost:8080/"
        },
        "id": "EvLMcm_f1oY2",
        "outputId": "3eb2b315-27ce-4ed5-c7e4-006d38975528"
      },
      "execution_count": null,
      "outputs": [
        {
          "output_type": "stream",
          "name": "stdout",
          "text": [
            "Hello Pyhton\n",
            "Welcome!\n",
            "Appended line.\n"
          ]
        }
      ]
    },
    {
      "cell_type": "code",
      "source": [
        "#Modules & Packages\n",
        "\"\"\"A module is simply a Python file (.py) that contains functions, variables, or classes.\n",
        "#Python has built-in modules (like math, random, os).\n",
        "#You can also create your own modules\"\"\"\n",
        "\n",
        "#Built in Modules\n",
        "import math\n",
        "print(math.sqrt(16))\n",
        "print(math.factorial(5))\n",
        "print(math.pi)\n",
        "\n",
        "#Aliasing Modules\n",
        "import datetime as dt\n",
        "today = dt.date.today()\n",
        "print(\"Today's date:\", today)\n",
        "\n",
        "#Creating Your Own Modules\n",
        "def add(a,b):\n",
        "  return a+b\n",
        "def greet(name):\n",
        "  return f\"Hello,{name}!\"\n",
        "print(add(1,2))\n",
        "print(greet(\"Sneha\"))\n"
      ],
      "metadata": {
        "id": "ebYMKLdL4Im8",
        "colab": {
          "base_uri": "https://localhost:8080/"
        },
        "outputId": "2d650185-694e-43c8-a8ff-e3a6683c8c7e"
      },
      "execution_count": null,
      "outputs": [
        {
          "output_type": "stream",
          "name": "stdout",
          "text": [
            "4.0\n",
            "120\n",
            "3.141592653589793\n",
            "Today's date: 2025-09-05\n",
            "3\n",
            "Hello,Sneha!\n"
          ]
        }
      ]
    },
    {
      "cell_type": "code",
      "source": [
        "# Exception Handling in Python\n",
        "\"\"\"\n",
        "Errors (called exceptions) happen when your program runs into something unexpected.\n",
        "Without handling, the program crashes.\n",
        "With handling, the program can gracefully recover.\"\"\"\n",
        "\n",
        "#Common Exceptions\n",
        "\"\"\"\n",
        "ZeroDivisionError → dividing by 0\n",
        "ValueError → invalid type conversion (int(\"abc\"))\n",
        "FileNotFoundError → when file does not exist\n",
        "IndexError → accessing list index out of range\n",
        "KeyError → dictionary key not found\"\"\"\n",
        "\n",
        "#Program:\n",
        "#try-except\n",
        "try:\n",
        "  num = int(input(\"Enter a number: \"))\n",
        "  print(10/num)\n",
        "except ZeroDivisionError:\n",
        "  print(\"You cannot divide by zero!\")\n",
        "except ValueError:\n",
        "  print(\"Invalid input,enter a number.\")\n",
        "\n",
        "#try-except-else\n",
        "try:\n",
        "    f = open(\"data.txt\", \"r\")\n",
        "except FileNotFoundError:\n",
        "    print(\"File not found.\")\n",
        "else:\n",
        "    print(\"File opened successfully.\")\n",
        "    f.close()\n",
        "\n",
        "#finally\n",
        "try:\n",
        "  f = open(\"data.txt\",\"r\")\n",
        "except FileNotFoundError:\n",
        "  print(\"File not found\")\n",
        "finally:\n",
        "  print(\"Closing Program\")\n",
        "\n",
        "#Multiple Exceptions in One Line\n",
        "try:\n",
        "    value = int(\"abc\")\n",
        "except (ValueError, TypeError) as e:\n",
        "    print(\"Error occurred:\", e)"
      ],
      "metadata": {
        "colab": {
          "base_uri": "https://localhost:8080/"
        },
        "id": "HpBRNR6fZKPf",
        "outputId": "46c44780-d735-4319-8908-59c076ad60fa"
      },
      "execution_count": null,
      "outputs": [
        {
          "output_type": "stream",
          "name": "stdout",
          "text": [
            "Enter a number: 3\n",
            "3.3333333333333335\n",
            "File not found.\n",
            "File not found\n",
            "Closing Program\n",
            "Error occurred: invalid literal for int() with base 10: 'abc'\n"
          ]
        }
      ]
    },
    {
      "cell_type": "code",
      "source": [
        "#Object-Oriented Programming\n",
        "\n",
        "#Classes & Objects\n",
        "\"\"\"\n",
        "Class → Blueprint (like a template).\n",
        "Object → Instance of a class (like a real thing created from the blueprint).\"\"\"\n",
        "\n",
        "class Student:\n",
        "  def __init__(self,name,age):\n",
        "    self.name = name\n",
        "    self.age = age\n",
        "  def display(self):\n",
        "    print(f\"Name:{self.name}, Age: {self.age}\")\n",
        "\n",
        "s1 = Student(\"Sneha\",21)\n",
        "s2 = Student(\"Priya\",20)\n",
        "s1.display()\n",
        "s2.display()\n",
        "\n",
        "#__int__ Constructor\n",
        "\"\"\"\n",
        "Special method that runs automatically when an object is created.\n",
        "Used to initialize attributes\"\"\"\n",
        "\n",
        "#Instances & Class Variables\n",
        "class Car:\n",
        "  wheels = 4 #class variable(shared by all objects)\n",
        "  def __init__(self,brand,color):\n",
        "    self.brand = brand #instance variable\n",
        "    self.color = color\n",
        "c1 = Car(\"Toyota\",\"Red\")\n",
        "c2 = Car(\"BMW\",\"Black\")\n",
        "\n",
        "print(c1.brand,c1.wheels)\n",
        "print(c2.brand,c2.color,c2.wheels)\n",
        "\n",
        "#Methods in Classes\n",
        "\"\"\"\n",
        "Instance method → works on object data.\n",
        "Class method → works on class-level data (@classmethod).\n",
        "Static method → utility function, independent of class/object (@staticmethod).\"\"\"\n",
        "\n",
        "class MathsUtils:\n",
        "  @staticmethod\n",
        "  def add(a,b):\n",
        "    return a+b\n",
        "print(\"Output:\", MathsUtils.add(2,3))\n",
        "\n",
        "#Inheritance\n",
        "class Animal:\n",
        "  def speak(self):\n",
        "    print(\"This is animal\")\n",
        "class Dog(Animal):\n",
        "  def speak(self): #Method overriding\n",
        "    print(\"Dog Barks!\")\n",
        "d = Dog()\n",
        "d.speak()\n",
        "\n",
        "#Polymorphism\n",
        "\"\"\"Same method, different behavior (method overriding).\"\"\"\n",
        "\n",
        "#Encapsulation\n",
        "\"\"\"Protects data using private members (_var or __var).\"\"\"\n",
        "class BankAccount:\n",
        "  def __init__(self,balance):\n",
        "    self.__balance = balance #private\n",
        "  def deposite(self,amount):\n",
        "    self.__balance += amount\n",
        "  def get_balance(self):\n",
        "    return self.__balance\n",
        "\n",
        "acc = BankAccount(1000)\n",
        "acc.deposite(500)\n",
        "print(\"Balance:\", acc.get_balance())\n",
        "\n",
        "#Abstraction\n",
        "\"\"\"Hiding implementation details, showing only necessary features.\n",
        "Done using abstract base classes (ABC) in Python.\"\"\"\n",
        "\n",
        "from abc import ABC, abstractmethod\n",
        "class Shape(ABC):\n",
        "  @abstractmethod\n",
        "  def area(self):\n",
        "    pass\n",
        "\n",
        "class Circle(Shape):\n",
        "  def __init__(self,r):\n",
        "    self.r = r\n",
        "  def area(self):\n",
        "    return 3.14 * self.r * self.r\n",
        "\n",
        "c = Circle(5)\n",
        "print(\"Area:\", c.area())"
      ],
      "metadata": {
        "id": "oRv4xnbYfcAJ",
        "colab": {
          "base_uri": "https://localhost:8080/"
        },
        "outputId": "e503d19d-7a4f-44c2-9276-a7bedb430502"
      },
      "execution_count": null,
      "outputs": [
        {
          "output_type": "stream",
          "name": "stdout",
          "text": [
            "Name:Sneha, Age: 21\n",
            "Name:Priya, Age: 20\n",
            "Toyota 4\n",
            "BMW Black 4\n",
            "Output: 5\n",
            "Dog Barks!\n",
            "Balance: 1500\n",
            "Area: 78.5\n"
          ]
        }
      ]
    },
    {
      "cell_type": "code",
      "source": [
        "#Practice Exercises\n",
        "\"\"\"1. Create a Student class with attributes: name, roll_no, marks. Add methods to display details and check pass/fail.\"\"\"\n",
        "class Student():\n",
        "  def __init__(self, name, roll_no,marks):\n",
        "    self.name = name\n",
        "    self.roll_no = roll_no\n",
        "    self.marks = marks\n",
        "\n",
        "  def display(self):\n",
        "    print(f\"Name:{self.name}, Roll_no: {self.roll_no}, Marks: {self.marks}\")\n",
        "    if(self.marks >= 50):\n",
        "      print(\"Pass\")\n",
        "    else:\n",
        "      print(\"Fail\")\n",
        "\n",
        "s1 = Student(\"Sneha\",132,90)\n",
        "s2 = Student(\"Priya\", 143, 45)\n",
        "\n",
        "print(s1.display())\n",
        "print(s2.display())\n",
        "\n",
        "\n",
        "\"\"\"2. Create a Calculator class with add, subtract, multiply, divide methods.\"\"\"\n",
        "\"\"\"3. Build an Employee class and a Manager subclass. Show inheritance.\"\"\"\n",
        "\"\"\"4. Implement a BankAccount with deposit, withdraw, and balance-check features.\"\"\"\n",
        "\"\"\"5. Create an abstract class Shape and implement Rectangle and Circle subclasses.\"\"\""
      ],
      "metadata": {
        "colab": {
          "base_uri": "https://localhost:8080/"
        },
        "id": "I7llMWbV-XXq",
        "outputId": "6f0a8c05-3df1-40c7-d7f2-0e25516fa8e7"
      },
      "execution_count": null,
      "outputs": [
        {
          "output_type": "stream",
          "name": "stdout",
          "text": [
            "Name:Sneha, Roll_no: 132, Marks: 90\n",
            "Pass\n",
            "None\n",
            "Name:Priya, Roll_no: 143, Marks: 45\n",
            "Fail\n",
            "None\n"
          ]
        }
      ]
    },
    {
      "cell_type": "code",
      "source": [
        "\"\"\"List Comprehensions\"\"\"\n",
        "#normal way\n",
        "squares = []\n",
        "for i in range (1,6):\n",
        "  squares.append(i*i)\n",
        "\n",
        "#List comprehension\n",
        "squares = [i*i for i in range(1,6)]\n",
        "print(squares)\n",
        "\n",
        "#With conditions\n",
        "even = [x for x in range(10) if x%2 == 0]\n",
        "print(even)\n",
        "\n",
        "odd = [x for x in range(10) if x%2 != 0]\n",
        "print(odd)"
      ],
      "metadata": {
        "colab": {
          "base_uri": "https://localhost:8080/"
        },
        "id": "CLTcTMqqAl7y",
        "outputId": "df7af9b0-8b9e-4856-ce09-dac5b9f0b7d1"
      },
      "execution_count": null,
      "outputs": [
        {
          "output_type": "stream",
          "name": "stdout",
          "text": [
            "[1, 4, 9, 16, 25]\n",
            "[0, 2, 4, 6, 8]\n",
            "[1, 3, 5, 7, 9]\n"
          ]
        }
      ]
    },
    {
      "cell_type": "code",
      "source": [
        "\"\"\"Dictionary & Set Comprehensions\"\"\"\n",
        "#dictionary comprehension\n",
        "squares = {x: x*x for x in range (1,6)}\n",
        "print(squares)\n",
        "\n",
        "#set comprehension\n",
        "nums = {x for x in [1,2,2,3,3,4,4,5]}\n",
        "print(nums)"
      ],
      "metadata": {
        "id": "ExkRfbBtFD-o",
        "colab": {
          "base_uri": "https://localhost:8080/"
        },
        "outputId": "08f8ee6c-2c0e-43b9-e277-96c46d51b36a"
      },
      "execution_count": 1,
      "outputs": [
        {
          "output_type": "stream",
          "name": "stdout",
          "text": [
            "{1: 1, 2: 4, 3: 9, 4: 16, 5: 25}\n",
            "{1, 2, 3, 4, 5}\n"
          ]
        }
      ]
    },
    {
      "cell_type": "code",
      "source": [
        "#Iterators\n",
        "\"\"\"An iterator is an object that can be looped over using next().\"\"\"\n",
        "\n",
        "nums = [1,2,3,4,5]\n",
        "it = iter(nums)\n",
        "\n",
        "print(next(it))\n",
        "print(next(it))\n",
        "print(next(it))\n",
        "print(next(it))"
      ],
      "metadata": {
        "colab": {
          "base_uri": "https://localhost:8080/"
        },
        "id": "_OUdjXJteYIR",
        "outputId": "81e3c6d9-993f-468d-9476-4edd2f6ace68"
      },
      "execution_count": 2,
      "outputs": [
        {
          "output_type": "stream",
          "name": "stdout",
          "text": [
            "1\n",
            "2\n",
            "3\n",
            "4\n"
          ]
        }
      ]
    },
    {
      "cell_type": "code",
      "source": [
        "#Generators\n",
        "\"\"\"Special functions using yield instead of return.\n",
        "They don’t store all values in memory, useful for big data.\"\"\"\n",
        "\n",
        "def count_up_to(n):\n",
        "  i = 1\n",
        "  while i <= n:\n",
        "    yield i\n",
        "    i += 1\n",
        "for num in count_up_to(5):\n",
        "  print(num)"
      ],
      "metadata": {
        "colab": {
          "base_uri": "https://localhost:8080/"
        },
        "id": "YXzZk8Cveusf",
        "outputId": "9edfb8b0-c5a0-41a5-cb22-a038e1c20b2c"
      },
      "execution_count": 3,
      "outputs": [
        {
          "output_type": "stream",
          "name": "stdout",
          "text": [
            "1\n",
            "2\n",
            "3\n",
            "4\n",
            "5\n"
          ]
        }
      ]
    },
    {
      "cell_type": "code",
      "source": [
        "#Decorators\n",
        "\"\"\"Functions that modify other functions without changing their code.\"\"\"\n",
        "def decorator(func):\n",
        "  def wrapper():\n",
        "    print(\"Before function\")\n",
        "    func()\n",
        "    print(\"After function\")\n",
        "  return wrapper\n",
        "\n",
        "@decorator\n",
        "def say_hello():\n",
        "  print(\"Hello\")\n",
        "\n",
        "say_hello()"
      ],
      "metadata": {
        "colab": {
          "base_uri": "https://localhost:8080/"
        },
        "id": "4pqmyGsmfGHX",
        "outputId": "8c2a0dc5-0493-468a-aeb3-7293f7b91394"
      },
      "execution_count": 4,
      "outputs": [
        {
          "output_type": "stream",
          "name": "stdout",
          "text": [
            "Before function\n",
            "Hello\n",
            "After function\n"
          ]
        }
      ]
    },
    {
      "cell_type": "code",
      "source": [
        "#Context Managers\n",
        "\"\"\"Used with with statement, useful for managing resources.\"\"\"\n",
        "with open(\"file.txt\", \"w\") as f:\n",
        "  f.write(\"Hello Python\")\n",
        "\n",
        "#Custom context manager\n",
        "class MyContext:\n",
        "  def __enter__(self):\n",
        "    print(\"Entering....\")\n",
        "  def __exit__(self,exc_type, exc_val, exc_tb):\n",
        "    print(\"Exiting.....\")\n",
        "\n",
        "with MyContext():\n",
        "  print(\"Inside context\")\n"
      ],
      "metadata": {
        "colab": {
          "base_uri": "https://localhost:8080/"
        },
        "id": "8HZStXQXgLSP",
        "outputId": "9ccd94f0-9fa9-494e-b8f1-3e9c84139acd"
      },
      "execution_count": 7,
      "outputs": [
        {
          "output_type": "stream",
          "name": "stdout",
          "text": [
            "Entering....\n",
            "Inside context\n",
            "Exiting.....\n"
          ]
        }
      ]
    },
    {
      "cell_type": "code",
      "source": [
        "\"\"\"Practice Exercies\"\"\"\n",
        "#1.Use list comprehension to create a list of all numbers divisible by 3 between 1 and 30.\n",
        "divisible = [x for x in range(1,30) if x%3 == 0]\n",
        "print(\"Numbers Divisible by 3 between 1 to 30:\", divisible)\n",
        "\n",
        "#2. Create a dictionary comprehension where keys are numbers 1–5 and values are their cubes.\n",
        "cubes = {x: x*x*x for x in range (1,5)}\n",
        "print(\"Cubes:\", cubes)\n",
        "\n",
        "#3. Write a generator that yields even numbers up to 20.\n",
        "def even_numbers():\n",
        "  for i in range(2,21,2):\n",
        "    yield i\n",
        "for num in even_numbers():\n",
        "  print(\"Even No. :\", num)\n",
        "\n",
        "#4. Create a decorator that prints execution time of a function.\n",
        "\n",
        "#5. Build a custom context manager that opens a file, writes data, and closes it automatically."
      ],
      "metadata": {
        "colab": {
          "base_uri": "https://localhost:8080/"
        },
        "id": "_QtMloSugpBv",
        "outputId": "7abdec54-b287-40d8-e2ce-e1284ad1a750"
      },
      "execution_count": 13,
      "outputs": [
        {
          "output_type": "stream",
          "name": "stdout",
          "text": [
            "Numbers Divisible by 3 between 1 to 30: [3, 6, 9, 12, 15, 18, 21, 24, 27]\n",
            "Cubes: {1: 1, 2: 8, 3: 27, 4: 64}\n",
            "Even No. : 2\n",
            "Even No. : 4\n",
            "Even No. : 6\n",
            "Even No. : 8\n",
            "Even No. : 10\n",
            "Even No. : 12\n",
            "Even No. : 14\n",
            "Even No. : 16\n",
            "Even No. : 18\n",
            "Even No. : 20\n"
          ]
        }
      ]
    }
  ]
}